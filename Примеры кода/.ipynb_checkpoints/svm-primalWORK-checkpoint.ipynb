{
 "cells": [
  {
   "cell_type": "markdown",
   "metadata": {},
   "source": [
    "# Support Vector Machine без использования библиотечной реализации"
   ]
  },
  {
   "cell_type": "code",
   "execution_count": 31,
   "metadata": {},
   "outputs": [
    {
     "name": "stdout",
     "output_type": "stream",
     "text": [
      "[ 1.58876117  3.17458055 11.11863105]\n"
     ]
    }
   ],
   "source": [
    "import numpy as np\n",
    "\n",
    "X = np.array([\n",
    "    [-2,4,-1],\n",
    "    [4,1,-1],\n",
    "    [1, 6, -1],\n",
    "    [2, 4, -1],\n",
    "    [6, 2, -1],\n",
    "\n",
    "])\n",
    "\n",
    "y = np.array([-1,-1,1,1,1])\n",
    "\n",
    "def svm_sgd(X, Y):\n",
    "\n",
    "    w = np.zeros(len(X[0]))\n",
    "    eta = 1\n",
    "    epochs = 100000\n",
    "\n",
    "\n",
    "    for epoch in range(1,epochs):\n",
    "        for i, x in enumerate(X):\n",
    "            if (Y[i]*np.dot(X[i], w)) < 1:\n",
    "                w = w + eta * ( (X[i] * Y[i]) + (-2  *(1/epoch)* w) )\n",
    "            else:\n",
    "                w = w + eta * (-2  *(1/epoch)* w)\n",
    "\n",
    "    return w\n",
    "\n",
    "w = svm_sgd(X,y)\n",
    "print(w)"
   ]
  },
  {
   "cell_type": "code",
   "execution_count": 16,
   "metadata": {},
   "outputs": [],
   "source": [
    "import numpy as np\n",
    "from matplotlib import pyplot as plt\n",
    "%matplotlib inline"
   ]
  },
  {
   "cell_type": "code",
   "execution_count": 17,
   "metadata": {
    "scrolled": true
   },
   "outputs": [
    {
     "data": {
      "text/plain": [
       "[<matplotlib.lines.Line2D at 0x7fac85f58550>]"
      ]
     },
     "execution_count": 17,
     "metadata": {},
     "output_type": "execute_result"
    },
    {
     "data": {
      "image/png": "[encoded data removed]",
      "text/plain": [
       "<Figure size 432x288 with 1 Axes>"
      ]
     },
     "metadata": {
      "needs_background": "light"
     },
     "output_type": "display_data"
    }
   ],
   "source": [
    "for d, sample in enumerate(X):\n",
    "    # Plot the negative samples\n",
    "    if d < 2:\n",
    "        plt.scatter(sample[0], sample[1], s=120, marker='_', linewidths=2)\n",
    "    # Plot the positive samples\n",
    "    else:\n",
    "        plt.scatter(sample[0], sample[1], s=120, marker='+', linewidths=2)\n",
    "\n",
    "# Print a possible hyperplane, that is seperating the two classes.\n",
    "plt.plot([-2,6],[6,0.5])"
   ]
  },
  {
   "cell_type": "markdown",
   "metadata": {},
   "source": [
    "We will run the sgd $100000$ times. Our learning parameter eta is set to $1$. As a regulizing parameter we choose $1/t$, so this parameter will decrease, as the number of epochs increases."
   ]
  },
  {
   "cell_type": "markdown",
   "metadata": {},
   "source": [
    "#### Code Description Line by Line\n",
    "\n",
    "line <b>2</b>: Initialize the weight vector for the perceptron with zeros<br>\n",
    "line <b>3</b>: Set the learning rate to 1<br>\n",
    "line <b>4</b>: Set the number of epochs<br>\n",
    "line <b>6</b>: Iterate n times over the whole data set. The Iterator is begins with $1$ to avoid division by zero during regularization  parameter calculation<br>\n",
    "line <b>7</b>: Iterate over each sample in the data set. <br>\n",
    "line <b>8</b>: Misclassification condition $y_i \\langle x_i,w \\rangle < 1$<br>\n",
    "line <b>9</b>: Update rule for the weights $w = w + \\eta (y_ix_i - 2\\lambda w)$ including the learning rate $\\eta$ and the regularizer $\\lambda$<br>\n",
    "line <b>11</b>: If classified correctly just update the weight vector by the derived regularizer term $w = w + \\eta (-2\\lambda w)$.<br>"
   ]
  },
  {
   "cell_type": "markdown",
   "metadata": {},
   "source": [
    "### Обучение SVM \n",
    "\n",
    "Напечатаем количество неправильно классифицированных и правильно классифицированных образцов от количества итераций обучения."
   ]
  },
  {
   "cell_type": "code",
   "execution_count": 32,
   "metadata": {},
   "outputs": [],
   "source": [
    "def svm_sgd_plot(X, Y):\n",
    "\n",
    "    w = np.zeros(len(X[0]))\n",
    "    eta = 1\n",
    "    epochs = 100000\n",
    "    errors = []\n",
    "\n",
    "\n",
    "    for epoch in range(1,epochs):\n",
    "        error = 0\n",
    "        for i, x in enumerate(X):\n",
    "            if (Y[i]*np.dot(X[i], w)) < 1:\n",
    "                w = w + eta * ( (X[i] * Y[i]) + (-2  *(1/epoch)* w) )\n",
    "                error = 1\n",
    "            else:\n",
    "                w = w + eta * (-2  *(1/epoch)* w)\n",
    "        errors.append(error)\n",
    "\n",
    "    plt.plot(errors, '|')\n",
    "    plt.ylim(0.5,1.5)\n",
    "    plt.axes().set_yticklabels([])\n",
    "    plt.xlabel('Epoch')\n",
    "    plt.ylabel('Misclassified')\n",
    "    plt.show()"
   ]
  },
  {
   "cell_type": "code",
   "execution_count": 20,
   "metadata": {},
   "outputs": [
    {
     "data": {
      "image/png": "[encoded data removed]",
      "text/plain": [
       "<Figure size 432x288 with 1 Axes>"
      ]
     },
     "metadata": {
      "needs_background": "light"
     },
     "output_type": "display_data"
    }
   ],
   "source": [
    "svm_sgd_plot(X,y)"
   ]
  },
  {
   "cell_type": "markdown",
   "metadata": {},
   "source": [
    "Вышеприведенный график показывает, что svm делает меньше ошибочных классификаций, тем больше он работает. "
   ]
  },
  {
   "cell_type": "markdown",
   "metadata": {},
   "source": [
    "Весовой вектор SVM, включающий период смещения после 100000 эпох, равен (1,56,3,17,11,12).\n",
    "Теперь мы можем извлечь следующую функцию прогнозирования:\n",
    "\n",
    "\n",
    "$$\n",
    "f(x) = \\langle x,(1.56,3.17)\\rangle - 11.12\n",
    "$$\n",
    "\n",
    "Весовой вектор равен (1,56,3,17), а термин смещения - третья запись 11.12."
   ]
  },
  {
   "cell_type": "markdown",
   "metadata": {},
   "source": [
    "## Оценка\n",
    "\n",
    "Давайте вручную проверим правильно ли мы обучили сеть:\n",
    "\n",
    "Первый пример $(-2, 4)$, должен быть отрицательным:\n",
    "\n",
    "$$-2*1,56+4*3,17 - 11,12 = sign(-1,56) = -1$$\n",
    "\n",
    "Второй пример $(4, 1)$, должен быть положительным:\n",
    "\n",
    "$$4*1,56+1*3,17 - 11,12 = sign(-1,71) = -1$$\n",
    "\n",
    "Третий пример $(1, 6)$, должен быть отрицательным:\n",
    "\n",
    "$$1*1,56+6*3,17-11,12 = sign(9,46) = +1$$\n",
    "\n",
    "Четвертый пример $(2, 4)$, должен быть положительным:\n",
    "\n",
    "$$2*1,56+4*3,17 - 11,12 = sign(4,68) = +1$$\n",
    "\n",
    "Пятый пример $(6, 2)$, должен быть положительным:\n",
    "\n",
    "$$6*1,56+2*3,17 - 11,12 = sign(4,58) = +1$$\n",
    "\n",
    "Добавим новые точки для проверки классификатора:\n",
    "\n",
    "Первый тестовый пример $(2, 2)$, должен быть отрицательным:\n",
    "\n",
    "$$2*1,56+2*3,17 - 11,12 = sign(-1,66) = -1$$\n",
    "\n",
    "Второй тестовый пример $(4, 3)$, должен быть положительным:\n",
    "\n",
    "$$4*1,56+3*3,17 - 11,12 = sign(4,63) = +1$$\n",
    "\n",
    "Оба образца классифицируются правильно. Чтобы проверить это геометрически, давайте нарисуем образцы, включая тестовые образцы и гиперплоскость."
   ]
  },
  {
   "cell_type": "code",
   "execution_count": 98,
   "metadata": {},
   "outputs": [
    {
     "data": {
      "text/plain": [
       "<matplotlib.quiver.Quiver at 0x7fb5adfda400>"
      ]
     },
     "execution_count": 98,
     "metadata": {},
     "output_type": "execute_result"
    },
    {
     "data": {
      "image/png": "[encoded data removed]",
      "text/plain": [
       "<matplotlib.figure.Figure at 0x7fb5adfd30f0>"
      ]
     },
     "metadata": {},
     "output_type": "display_data"
    }
   ],
   "source": [
    "for d, sample in enumerate(X):\n",
    "    # Plot the negative samples\n",
    "    if d < 2:\n",
    "        plt.scatter(sample[0], sample[1], s=120, marker='_', linewidths=2)\n",
    "    # Plot the positive samples\n",
    "    else:\n",
    "        plt.scatter(sample[0], sample[1], s=120, marker='+', linewidths=2)\n",
    "\n",
    "# Add our test samples\n",
    "\n",
    "plt.scatter(2,2, s=120, marker='_', linewidths=2, color='yellow')\n",
    "plt.scatter(4,3, s=120, marker='+', linewidths=2, color='blue')\n",
    "\n",
    "# Print the hyperplane calculated by svm_sgd()\n",
    "x2=[w[0],w[1],-w[1],w[0]]\n",
    "x3=[w[0],w[1],w[1],-w[0]]\n",
    "\n",
    "x2x3 =np.array([x2,x3])\n",
    "X,Y,U,V = zip(*x2x3)\n",
    "ax = plt.gca()\n",
    "ax.quiver(X,Y,U,V,scale=1, color='blue')\n"
   ]
  },
  {
   "cell_type": "code",
   "execution_count": null,
   "metadata": {
    "collapsed": true
   },
   "outputs": [],
   "source": []
  }
 ],
 "metadata": {
  "kernelspec": {
   "display_name": "Python 3",
   "language": "python",
   "name": "python3"
  },
  "language_info": {
   "codemirror_mode": {
    "name": "ipython",
    "version": 3
   },
   "file_extension": ".py",
   "mimetype": "text/x-python",
   "name": "python",
   "nbconvert_exporter": "python",
   "pygments_lexer": "ipython3",
   "version": "3.6.3"
  }
 },
 "nbformat": 4,
 "nbformat_minor": 2
}
